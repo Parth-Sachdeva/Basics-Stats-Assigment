{
  "nbformat": 4,
  "nbformat_minor": 0,
  "metadata": {
    "colab": {
      "provenance": []
    },
    "kernelspec": {
      "name": "python3",
      "display_name": "Python 3"
    },
    "language_info": {
      "name": "python"
    }
  },
  "cells": [
    {
      "cell_type": "markdown",
      "source": [
        "**Practical Questions**\n",
        "\n",
        "---\n",
        "\n"
      ],
      "metadata": {
        "id": "yqP_RZQVukgm"
      }
    },
    {
      "cell_type": "code",
      "source": [
        "#1.How do you calculate the mean, median, and mode of a dataset.\n",
        "\n",
        "\"\"\"1.Mean is simly the average of a dataset,i.e., it can be calculated by dividing sum of observations from the no. of observations in a dataset.\n",
        "2.Median is the middlemost value of the dataset. It can be calculated with the help of following steps:\n",
        "   Arrange the dataset in ascending order (smallest to largest).\n",
        "   If there's an odd number of values, the median is the middle value.\n",
        "   If there's an even number of values, the median is the average of the two middle values.\n",
        "3. Mode: The mode is the value that appears most frequently in a dataset.\"\"\""
      ],
      "metadata": {
        "id": "cG1C5WQBu4Vy"
      },
      "execution_count": null,
      "outputs": []
    },
    {
      "cell_type": "code",
      "source": [
        "import numpy as np\n",
        "list = [2, 4, 4, 4, 5, 5, 7, 9]\n",
        "print(np.mean(list))\n",
        "print(np.median(list))\n",
        "from collections import Counter\n",
        "data = Counter(list)\n",
        "data_list = dict(data)\n",
        "print(max(data_list, key=data_list.get))"
      ],
      "metadata": {
        "colab": {
          "base_uri": "https://localhost:8080/"
        },
        "id": "7Aq1Gcsiz0Nq",
        "outputId": "8d0e278e-8298-44f8-f418-025b115cc7a7"
      },
      "execution_count": null,
      "outputs": [
        {
          "output_type": "stream",
          "name": "stdout",
          "text": [
            "5.0\n",
            "4.5\n",
            "4\n"
          ]
        }
      ]
    },
    {
      "cell_type": "code",
      "source": [
        " #2.Write a Python program to compute the variance and standard deviation of a dataset.\n",
        " list = [2, 4, 4, 4, 5, 5, 7, 9]\n",
        " print(np.var(list))\n",
        " print(np.std(list))"
      ],
      "metadata": {
        "colab": {
          "base_uri": "https://localhost:8080/"
        },
        "id": "nJB9-D3ou4Zq",
        "outputId": "3ae9cb44-34fc-42bc-c8d4-6fd09a992eb5"
      },
      "execution_count": null,
      "outputs": [
        {
          "output_type": "stream",
          "name": "stdout",
          "text": [
            "4.0\n",
            "2.0\n"
          ]
        }
      ]
    },
    {
      "cell_type": "code",
      "source": [
        " #3.Create a dataset and classify it into nominal, ordinal, interval, and ratio types.\n",
        " import pandas as pd\n",
        " customer_data=pd.DataFrame({\"Customer ID\":[101,102,103,104],#Nominal\n",
        "                            \"Gender\":[\"Male\",\"Female\",\"Male\",\"Female\"],#Nominal\n",
        "                            \"Customer Rating\":[3,4,4,5],#Ordinal\n",
        "                            \"Customer credit score\":[-100,250,500,700],#Interval\n",
        "                            \"Age\":[32,23,46,54]})#Ratio\n",
        " customer_data"
      ],
      "metadata": {
        "colab": {
          "base_uri": "https://localhost:8080/",
          "height": 175
        },
        "id": "lUCZX-IOu4kx",
        "outputId": "61401ad9-bfb3-4f1e-ff39-aa2c25f4c4d9"
      },
      "execution_count": null,
      "outputs": [
        {
          "output_type": "execute_result",
          "data": {
            "text/plain": [
              "   Customer ID  Gender  Customer Rating  Customer credit score  Age\n",
              "0          101    Male                3                   -100   32\n",
              "1          102  Female                4                    250   23\n",
              "2          103    Male                4                    500   46\n",
              "3          104  Female                5                    700   54"
            ],
            "text/html": [
              "\n",
              "  <div id=\"df-dca18c07-e099-4285-83a4-96be64a07cf7\" class=\"colab-df-container\">\n",
              "    <div>\n",
              "<style scoped>\n",
              "    .dataframe tbody tr th:only-of-type {\n",
              "        vertical-align: middle;\n",
              "    }\n",
              "\n",
              "    .dataframe tbody tr th {\n",
              "        vertical-align: top;\n",
              "    }\n",
              "\n",
              "    .dataframe thead th {\n",
              "        text-align: right;\n",
              "    }\n",
              "</style>\n",
              "<table border=\"1\" class=\"dataframe\">\n",
              "  <thead>\n",
              "    <tr style=\"text-align: right;\">\n",
              "      <th></th>\n",
              "      <th>Customer ID</th>\n",
              "      <th>Gender</th>\n",
              "      <th>Customer Rating</th>\n",
              "      <th>Customer credit score</th>\n",
              "      <th>Age</th>\n",
              "    </tr>\n",
              "  </thead>\n",
              "  <tbody>\n",
              "    <tr>\n",
              "      <th>0</th>\n",
              "      <td>101</td>\n",
              "      <td>Male</td>\n",
              "      <td>3</td>\n",
              "      <td>-100</td>\n",
              "      <td>32</td>\n",
              "    </tr>\n",
              "    <tr>\n",
              "      <th>1</th>\n",
              "      <td>102</td>\n",
              "      <td>Female</td>\n",
              "      <td>4</td>\n",
              "      <td>250</td>\n",
              "      <td>23</td>\n",
              "    </tr>\n",
              "    <tr>\n",
              "      <th>2</th>\n",
              "      <td>103</td>\n",
              "      <td>Male</td>\n",
              "      <td>4</td>\n",
              "      <td>500</td>\n",
              "      <td>46</td>\n",
              "    </tr>\n",
              "    <tr>\n",
              "      <th>3</th>\n",
              "      <td>104</td>\n",
              "      <td>Female</td>\n",
              "      <td>5</td>\n",
              "      <td>700</td>\n",
              "      <td>54</td>\n",
              "    </tr>\n",
              "  </tbody>\n",
              "</table>\n",
              "</div>\n",
              "    <div class=\"colab-df-buttons\">\n",
              "\n",
              "  <div class=\"colab-df-container\">\n",
              "    <button class=\"colab-df-convert\" onclick=\"convertToInteractive('df-dca18c07-e099-4285-83a4-96be64a07cf7')\"\n",
              "            title=\"Convert this dataframe to an interactive table.\"\n",
              "            style=\"display:none;\">\n",
              "\n",
              "  <svg xmlns=\"http://www.w3.org/2000/svg\" height=\"24px\" viewBox=\"0 -960 960 960\">\n",
              "    <path d=\"M120-120v-720h720v720H120Zm60-500h600v-160H180v160Zm220 220h160v-160H400v160Zm0 220h160v-160H400v160ZM180-400h160v-160H180v160Zm440 0h160v-160H620v160ZM180-180h160v-160H180v160Zm440 0h160v-160H620v160Z\"/>\n",
              "  </svg>\n",
              "    </button>\n",
              "\n",
              "  <style>\n",
              "    .colab-df-container {\n",
              "      display:flex;\n",
              "      gap: 12px;\n",
              "    }\n",
              "\n",
              "    .colab-df-convert {\n",
              "      background-color: #E8F0FE;\n",
              "      border: none;\n",
              "      border-radius: 50%;\n",
              "      cursor: pointer;\n",
              "      display: none;\n",
              "      fill: #1967D2;\n",
              "      height: 32px;\n",
              "      padding: 0 0 0 0;\n",
              "      width: 32px;\n",
              "    }\n",
              "\n",
              "    .colab-df-convert:hover {\n",
              "      background-color: #E2EBFA;\n",
              "      box-shadow: 0px 1px 2px rgba(60, 64, 67, 0.3), 0px 1px 3px 1px rgba(60, 64, 67, 0.15);\n",
              "      fill: #174EA6;\n",
              "    }\n",
              "\n",
              "    .colab-df-buttons div {\n",
              "      margin-bottom: 4px;\n",
              "    }\n",
              "\n",
              "    [theme=dark] .colab-df-convert {\n",
              "      background-color: #3B4455;\n",
              "      fill: #D2E3FC;\n",
              "    }\n",
              "\n",
              "    [theme=dark] .colab-df-convert:hover {\n",
              "      background-color: #434B5C;\n",
              "      box-shadow: 0px 1px 3px 1px rgba(0, 0, 0, 0.15);\n",
              "      filter: drop-shadow(0px 1px 2px rgba(0, 0, 0, 0.3));\n",
              "      fill: #FFFFFF;\n",
              "    }\n",
              "  </style>\n",
              "\n",
              "    <script>\n",
              "      const buttonEl =\n",
              "        document.querySelector('#df-dca18c07-e099-4285-83a4-96be64a07cf7 button.colab-df-convert');\n",
              "      buttonEl.style.display =\n",
              "        google.colab.kernel.accessAllowed ? 'block' : 'none';\n",
              "\n",
              "      async function convertToInteractive(key) {\n",
              "        const element = document.querySelector('#df-dca18c07-e099-4285-83a4-96be64a07cf7');\n",
              "        const dataTable =\n",
              "          await google.colab.kernel.invokeFunction('convertToInteractive',\n",
              "                                                    [key], {});\n",
              "        if (!dataTable) return;\n",
              "\n",
              "        const docLinkHtml = 'Like what you see? Visit the ' +\n",
              "          '<a target=\"_blank\" href=https://colab.research.google.com/notebooks/data_table.ipynb>data table notebook</a>'\n",
              "          + ' to learn more about interactive tables.';\n",
              "        element.innerHTML = '';\n",
              "        dataTable['output_type'] = 'display_data';\n",
              "        await google.colab.output.renderOutput(dataTable, element);\n",
              "        const docLink = document.createElement('div');\n",
              "        docLink.innerHTML = docLinkHtml;\n",
              "        element.appendChild(docLink);\n",
              "      }\n",
              "    </script>\n",
              "  </div>\n",
              "\n",
              "\n",
              "    <div id=\"df-7f254c05-7dca-4391-9dd4-a57ef47daf4c\">\n",
              "      <button class=\"colab-df-quickchart\" onclick=\"quickchart('df-7f254c05-7dca-4391-9dd4-a57ef47daf4c')\"\n",
              "                title=\"Suggest charts\"\n",
              "                style=\"display:none;\">\n",
              "\n",
              "<svg xmlns=\"http://www.w3.org/2000/svg\" height=\"24px\"viewBox=\"0 0 24 24\"\n",
              "     width=\"24px\">\n",
              "    <g>\n",
              "        <path d=\"M19 3H5c-1.1 0-2 .9-2 2v14c0 1.1.9 2 2 2h14c1.1 0 2-.9 2-2V5c0-1.1-.9-2-2-2zM9 17H7v-7h2v7zm4 0h-2V7h2v10zm4 0h-2v-4h2v4z\"/>\n",
              "    </g>\n",
              "</svg>\n",
              "      </button>\n",
              "\n",
              "<style>\n",
              "  .colab-df-quickchart {\n",
              "      --bg-color: #E8F0FE;\n",
              "      --fill-color: #1967D2;\n",
              "      --hover-bg-color: #E2EBFA;\n",
              "      --hover-fill-color: #174EA6;\n",
              "      --disabled-fill-color: #AAA;\n",
              "      --disabled-bg-color: #DDD;\n",
              "  }\n",
              "\n",
              "  [theme=dark] .colab-df-quickchart {\n",
              "      --bg-color: #3B4455;\n",
              "      --fill-color: #D2E3FC;\n",
              "      --hover-bg-color: #434B5C;\n",
              "      --hover-fill-color: #FFFFFF;\n",
              "      --disabled-bg-color: #3B4455;\n",
              "      --disabled-fill-color: #666;\n",
              "  }\n",
              "\n",
              "  .colab-df-quickchart {\n",
              "    background-color: var(--bg-color);\n",
              "    border: none;\n",
              "    border-radius: 50%;\n",
              "    cursor: pointer;\n",
              "    display: none;\n",
              "    fill: var(--fill-color);\n",
              "    height: 32px;\n",
              "    padding: 0;\n",
              "    width: 32px;\n",
              "  }\n",
              "\n",
              "  .colab-df-quickchart:hover {\n",
              "    background-color: var(--hover-bg-color);\n",
              "    box-shadow: 0 1px 2px rgba(60, 64, 67, 0.3), 0 1px 3px 1px rgba(60, 64, 67, 0.15);\n",
              "    fill: var(--button-hover-fill-color);\n",
              "  }\n",
              "\n",
              "  .colab-df-quickchart-complete:disabled,\n",
              "  .colab-df-quickchart-complete:disabled:hover {\n",
              "    background-color: var(--disabled-bg-color);\n",
              "    fill: var(--disabled-fill-color);\n",
              "    box-shadow: none;\n",
              "  }\n",
              "\n",
              "  .colab-df-spinner {\n",
              "    border: 2px solid var(--fill-color);\n",
              "    border-color: transparent;\n",
              "    border-bottom-color: var(--fill-color);\n",
              "    animation:\n",
              "      spin 1s steps(1) infinite;\n",
              "  }\n",
              "\n",
              "  @keyframes spin {\n",
              "    0% {\n",
              "      border-color: transparent;\n",
              "      border-bottom-color: var(--fill-color);\n",
              "      border-left-color: var(--fill-color);\n",
              "    }\n",
              "    20% {\n",
              "      border-color: transparent;\n",
              "      border-left-color: var(--fill-color);\n",
              "      border-top-color: var(--fill-color);\n",
              "    }\n",
              "    30% {\n",
              "      border-color: transparent;\n",
              "      border-left-color: var(--fill-color);\n",
              "      border-top-color: var(--fill-color);\n",
              "      border-right-color: var(--fill-color);\n",
              "    }\n",
              "    40% {\n",
              "      border-color: transparent;\n",
              "      border-right-color: var(--fill-color);\n",
              "      border-top-color: var(--fill-color);\n",
              "    }\n",
              "    60% {\n",
              "      border-color: transparent;\n",
              "      border-right-color: var(--fill-color);\n",
              "    }\n",
              "    80% {\n",
              "      border-color: transparent;\n",
              "      border-right-color: var(--fill-color);\n",
              "      border-bottom-color: var(--fill-color);\n",
              "    }\n",
              "    90% {\n",
              "      border-color: transparent;\n",
              "      border-bottom-color: var(--fill-color);\n",
              "    }\n",
              "  }\n",
              "</style>\n",
              "\n",
              "      <script>\n",
              "        async function quickchart(key) {\n",
              "          const quickchartButtonEl =\n",
              "            document.querySelector('#' + key + ' button');\n",
              "          quickchartButtonEl.disabled = true;  // To prevent multiple clicks.\n",
              "          quickchartButtonEl.classList.add('colab-df-spinner');\n",
              "          try {\n",
              "            const charts = await google.colab.kernel.invokeFunction(\n",
              "                'suggestCharts', [key], {});\n",
              "          } catch (error) {\n",
              "            console.error('Error during call to suggestCharts:', error);\n",
              "          }\n",
              "          quickchartButtonEl.classList.remove('colab-df-spinner');\n",
              "          quickchartButtonEl.classList.add('colab-df-quickchart-complete');\n",
              "        }\n",
              "        (() => {\n",
              "          let quickchartButtonEl =\n",
              "            document.querySelector('#df-7f254c05-7dca-4391-9dd4-a57ef47daf4c button');\n",
              "          quickchartButtonEl.style.display =\n",
              "            google.colab.kernel.accessAllowed ? 'block' : 'none';\n",
              "        })();\n",
              "      </script>\n",
              "    </div>\n",
              "\n",
              "  <div id=\"id_5f17beb9-282e-4143-811e-ac84edbd8bcd\">\n",
              "    <style>\n",
              "      .colab-df-generate {\n",
              "        background-color: #E8F0FE;\n",
              "        border: none;\n",
              "        border-radius: 50%;\n",
              "        cursor: pointer;\n",
              "        display: none;\n",
              "        fill: #1967D2;\n",
              "        height: 32px;\n",
              "        padding: 0 0 0 0;\n",
              "        width: 32px;\n",
              "      }\n",
              "\n",
              "      .colab-df-generate:hover {\n",
              "        background-color: #E2EBFA;\n",
              "        box-shadow: 0px 1px 2px rgba(60, 64, 67, 0.3), 0px 1px 3px 1px rgba(60, 64, 67, 0.15);\n",
              "        fill: #174EA6;\n",
              "      }\n",
              "\n",
              "      [theme=dark] .colab-df-generate {\n",
              "        background-color: #3B4455;\n",
              "        fill: #D2E3FC;\n",
              "      }\n",
              "\n",
              "      [theme=dark] .colab-df-generate:hover {\n",
              "        background-color: #434B5C;\n",
              "        box-shadow: 0px 1px 3px 1px rgba(0, 0, 0, 0.15);\n",
              "        filter: drop-shadow(0px 1px 2px rgba(0, 0, 0, 0.3));\n",
              "        fill: #FFFFFF;\n",
              "      }\n",
              "    </style>\n",
              "    <button class=\"colab-df-generate\" onclick=\"generateWithVariable('customer_data')\"\n",
              "            title=\"Generate code using this dataframe.\"\n",
              "            style=\"display:none;\">\n",
              "\n",
              "  <svg xmlns=\"http://www.w3.org/2000/svg\" height=\"24px\"viewBox=\"0 0 24 24\"\n",
              "       width=\"24px\">\n",
              "    <path d=\"M7,19H8.4L18.45,9,17,7.55,7,17.6ZM5,21V16.75L18.45,3.32a2,2,0,0,1,2.83,0l1.4,1.43a1.91,1.91,0,0,1,.58,1.4,1.91,1.91,0,0,1-.58,1.4L9.25,21ZM18.45,9,17,7.55Zm-12,3A5.31,5.31,0,0,0,4.9,8.1,5.31,5.31,0,0,0,1,6.5,5.31,5.31,0,0,0,4.9,4.9,5.31,5.31,0,0,0,6.5,1,5.31,5.31,0,0,0,8.1,4.9,5.31,5.31,0,0,0,12,6.5,5.46,5.46,0,0,0,6.5,12Z\"/>\n",
              "  </svg>\n",
              "    </button>\n",
              "    <script>\n",
              "      (() => {\n",
              "      const buttonEl =\n",
              "        document.querySelector('#id_5f17beb9-282e-4143-811e-ac84edbd8bcd button.colab-df-generate');\n",
              "      buttonEl.style.display =\n",
              "        google.colab.kernel.accessAllowed ? 'block' : 'none';\n",
              "\n",
              "      buttonEl.onclick = () => {\n",
              "        google.colab.notebook.generateWithVariable('customer_data');\n",
              "      }\n",
              "      })();\n",
              "    </script>\n",
              "  </div>\n",
              "\n",
              "    </div>\n",
              "  </div>\n"
            ],
            "application/vnd.google.colaboratory.intrinsic+json": {
              "type": "dataframe",
              "variable_name": "customer_data",
              "summary": "{\n  \"name\": \"customer_data\",\n  \"rows\": 4,\n  \"fields\": [\n    {\n      \"column\": \"Customer ID\",\n      \"properties\": {\n        \"dtype\": \"number\",\n        \"std\": 1,\n        \"min\": 101,\n        \"max\": 104,\n        \"num_unique_values\": 4,\n        \"samples\": [\n          102,\n          104,\n          101\n        ],\n        \"semantic_type\": \"\",\n        \"description\": \"\"\n      }\n    },\n    {\n      \"column\": \"Gender\",\n      \"properties\": {\n        \"dtype\": \"string\",\n        \"num_unique_values\": 2,\n        \"samples\": [\n          \"Female\",\n          \"Male\"\n        ],\n        \"semantic_type\": \"\",\n        \"description\": \"\"\n      }\n    },\n    {\n      \"column\": \"Customer Rating\",\n      \"properties\": {\n        \"dtype\": \"number\",\n        \"std\": 0,\n        \"min\": 3,\n        \"max\": 5,\n        \"num_unique_values\": 3,\n        \"samples\": [\n          3,\n          4\n        ],\n        \"semantic_type\": \"\",\n        \"description\": \"\"\n      }\n    },\n    {\n      \"column\": \"Customer credit score\",\n      \"properties\": {\n        \"dtype\": \"number\",\n        \"std\": 344,\n        \"min\": -100,\n        \"max\": 700,\n        \"num_unique_values\": 4,\n        \"samples\": [\n          250,\n          700\n        ],\n        \"semantic_type\": \"\",\n        \"description\": \"\"\n      }\n    },\n    {\n      \"column\": \"Age\",\n      \"properties\": {\n        \"dtype\": \"number\",\n        \"std\": 13,\n        \"min\": 23,\n        \"max\": 54,\n        \"num_unique_values\": 4,\n        \"samples\": [\n          23,\n          54\n        ],\n        \"semantic_type\": \"\",\n        \"description\": \"\"\n      }\n    }\n  ]\n}"
            }
          },
          "metadata": {},
          "execution_count": 3
        }
      ]
    },
    {
      "cell_type": "code",
      "source": [
        " #4.Implement sampling techniques like random sampling and stratified sampling.\n",
        "import numpy as np\n",
        "import pandas as pd\n",
        "\n",
        "\n",
        "data_list = [2, 4, 4, 4, 5, 5, 7, 9]\n",
        "sample_size = 3\n",
        "random_sample = np.random.choice(data_list, size=sample_size, replace=False)\n",
        "print(\"Random Sample:\", random_sample)\n",
        "\n",
        "data = pd.DataFrame({\n",
        "    'values': [2, 4, 4, 4, 5, 5, 7, 9, 10, 11, 12, 13, 14, 15, 16],\n",
        "    'strata_column': ['A', 'A', 'A', 'B', 'B', 'B', 'C', 'C', 'C', 'A', 'A', 'B', 'B', 'C', 'C']\n",
        "})\n",
        "\n",
        "strata = data['strata_column'].unique()\n",
        "stratified_sample = pd.DataFrame()\n",
        "\n",
        "for stratum in strata:\n",
        "    stratum_data = data[data['strata_column'] == stratum]\n",
        "    sample_size = int(len(stratum_data) * 0.2)\n",
        "    stratum_sample = stratum_data.sample(n=sample_size, replace=False)\n",
        "    stratified_sample = pd.concat([stratified_sample, stratum_sample])\n",
        "print(\"\\nStratified Sample:\")\n",
        "print(stratified_sample)"
      ],
      "metadata": {
        "colab": {
          "base_uri": "https://localhost:8080/"
        },
        "id": "RWnRjw9Xu4ob",
        "outputId": "28e504ba-4247-4728-a830-ce41011bfde7"
      },
      "execution_count": null,
      "outputs": [
        {
          "output_type": "stream",
          "name": "stdout",
          "text": [
            "Random Sample: [7 4 5]\n",
            "\n",
            "Stratified Sample:\n",
            "    values strata_column\n",
            "0        2             A\n",
            "12      14             B\n",
            "6        7             C\n"
          ]
        }
      ]
    },
    {
      "cell_type": "code",
      "source": [
        " #5.Write a Python function to calculate the range of a dataset.\n",
        "data_1 = [2, 4, 4, 4, 5, 5, 7, 9]\n",
        "data1_range = max(data_1) - min(data_1)\n",
        "print(data1_range)\n"
      ],
      "metadata": {
        "colab": {
          "base_uri": "https://localhost:8080/"
        },
        "id": "HTabur9Bu4sJ",
        "outputId": "63f24954-d418-41f9-d06f-5be51f38ce6e"
      },
      "execution_count": null,
      "outputs": [
        {
          "output_type": "stream",
          "name": "stdout",
          "text": [
            "7\n"
          ]
        }
      ]
    },
    {
      "cell_type": "code",
      "source": [
        " #6.Create a dataset and plot its histogram to visualize skewness.\n",
        "import pandas as pd\n",
        "import matplotlib.pyplot as plt\n",
        "import seaborn as sns\n",
        "\n",
        "Student_data=pd.DataFrame({\"Exam Roll No.\":[1001,1002,1003,1004,1005,1006,1007,1008,1009,1010],\n",
        "                            \"Marks\":[80,80,92,80,92,80,92,43,40,50]})\n",
        "skewness=Student_data['Marks'].skew()\n",
        "print(\"Skewness:\",skewness)\n",
        "\n",
        "sns.histplot(Student_data['Marks'], kde=True)\n",
        "plt.title(\"Distribution of Marks\")\n",
        "plt.xlabel(\"Marks\")\n",
        "plt.ylabel(\"Frequency\")\n",
        "plt.show()"
      ],
      "metadata": {
        "colab": {
          "base_uri": "https://localhost:8080/",
          "height": 489
        },
        "id": "upUpWfjeu4vi",
        "outputId": "f3532737-9c1b-43a6-fabb-41f5d727babc"
      },
      "execution_count": null,
      "outputs": [
        {
          "output_type": "stream",
          "name": "stdout",
          "text": [
            "Skewness: -0.8337268982194516\n"
          ]
        },
        {
          "output_type": "display_data",
          "data": {
            "text/plain": [
              "<Figure size 640x480 with 1 Axes>"
            ],
            "image/png": "[encoded data removed]"
          },
          "metadata": {}
        }
      ]
    },
    {
      "cell_type": "code",
      "source": [
        " #7.Calculate skewness and kurtosis of a dataset using Python libraries.\n",
        "import scipy.stats as stats\n",
        "import numpy as np\n",
        "\n",
        "data = [2, 4, 4, 4, 5, 5, 7, 9]\n",
        "\n",
        "skewness = stats.skew(data)\n",
        "print(\"Skewness:\", skewness)\n",
        "\n",
        "kurtosis = stats.kurtosis(data)\n",
        "print(\"Kurtosis:\", kurtosis)"
      ],
      "metadata": {
        "colab": {
          "base_uri": "https://localhost:8080/"
        },
        "id": "m1yt4fxAu4y1",
        "outputId": "d49f44f3-b2ea-4401-ba76-3c139df2926e"
      },
      "execution_count": null,
      "outputs": [
        {
          "output_type": "stream",
          "name": "stdout",
          "text": [
            "Skewness: 0.65625\n",
            "Kurtosis: -0.21875\n"
          ]
        }
      ]
    },
    {
      "cell_type": "code",
      "source": [
        " #8.Generate a dataset and demonstrate positive and negative skewness.\n",
        "\n",
        "import numpy as np\n",
        "import matplotlib.pyplot as plt\n",
        "import seaborn as sns\n",
        "\n",
        "# Generate a dataset with positive skewness\n",
        "data_positive_skew = np.random.exponential(scale=1, size=1000)\n",
        "\n",
        "# Generate a dataset with negative skewness\n",
        "data_negative_skew = np.random.beta(a=5, b=2, size=1000)\n",
        "\n",
        "# Visualize the datasets using histograms\n",
        "plt.figure(figsize=(12, 6))\n",
        "\n",
        "plt.subplot(1, 2, 1)\n",
        "sns.histplot(data_positive_skew, kde=True)\n",
        "plt.title(\"Positive Skewness\")\n",
        "\n",
        "plt.subplot(1, 2, 2)\n",
        "sns.histplot(data_negative_skew, kde=True)\n",
        "plt.title(\"Negative Skewness\")\n",
        "\n",
        "plt.show()\n",
        "\n"
      ],
      "metadata": {
        "colab": {
          "base_uri": "https://localhost:8080/",
          "height": 468
        },
        "id": "gPWHrLgCu41j",
        "outputId": "8d9b1845-dca3-4a1c-bcac-0b44f11e9cd3"
      },
      "execution_count": null,
      "outputs": [
        {
          "output_type": "display_data",
          "data": {
            "text/plain": [
              "<Figure size 1200x600 with 2 Axes>"
            ],
            "image/png": "[encoded data removed]"
          },
          "metadata": {}
        }
      ]
    },
    {
      "cell_type": "code",
      "source": [
        " #9.Write a Python script to calculate covariance between two datasets.\n",
        "import scipy.stats as stats\n",
        "import numpy as np\n",
        "Hrs_std=[2,3,2,4,2,3,3]\n",
        "Marks_obt=[8,9,7,10,8,9,8]\n",
        "Covariance=np.cov(Hrs_std,Marks_obt, bias=True)[0][1]\n",
        "print(\"Covariance:\",Covariance)\n"
      ],
      "metadata": {
        "id": "Ks3IN-Y-u44K",
        "colab": {
          "base_uri": "https://localhost:8080/"
        },
        "outputId": "a636793b-801f-4655-ffef-0b5995cb544a"
      },
      "execution_count": null,
      "outputs": [
        {
          "output_type": "stream",
          "name": "stdout",
          "text": [
            "Covariance: 0.5510204081632653\n"
          ]
        }
      ]
    },
    {
      "cell_type": "code",
      "source": [
        " #10.Write a Python script to calculate the correlation coefficient between two datasets.\n",
        "Hrs_std=[2,3,2,4,2,3,3]\n",
        "Marks_obt=[8,9,7,10,8,9,8]\n",
        "Correlation=np.corrcoef(Hrs_std,Marks_obt, bias=True)[0][1]\n",
        "print(\"Correlation:\",Correlation)\n"
      ],
      "metadata": {
        "id": "MdqZ10Hgu47z",
        "colab": {
          "base_uri": "https://localhost:8080/"
        },
        "outputId": "448b9ff8-f9d4-4314-dd86-308c8f084d58"
      },
      "execution_count": null,
      "outputs": [
        {
          "output_type": "stream",
          "name": "stdout",
          "text": [
            "Correlation: 0.8714212528966687\n"
          ]
        },
        {
          "output_type": "stream",
          "name": "stderr",
          "text": [
            "<ipython-input-6-e912f900e0bf>:4: DeprecationWarning: bias and ddof have no effect and are deprecated\n",
            "  Correlation=np.corrcoef(Hrs_std,Marks_obt, bias=True)[0][1]\n"
          ]
        }
      ]
    },
    {
      "cell_type": "code",
      "source": [
        "#11.Create a scatter plot to visualize the relationship between two variables.\n",
        "Hrs_std=[2,3,2,4,2,3,3]\n",
        "Marks_obt=[8,9,7,10,8,9,8]\n",
        "import matplotlib.pyplot as plt\n",
        "plt.scatter(x_data, y_data)\n",
        "plt.xlabel(\"X-axis Label\")\n",
        "plt.ylabel(\"Y-axis Label\")\n",
        "plt.title(\"Scatter Plot of X vs. Y\")\n",
        "plt.show()"
      ],
      "metadata": {
        "id": "3_S7MLfqu5br",
        "colab": {
          "base_uri": "https://localhost:8080/",
          "height": 106
        },
        "outputId": "92af24ee-eb50-47e6-ad90-2acff41e899e"
      },
      "execution_count": null,
      "outputs": [
        {
          "output_type": "error",
          "ename": "SyntaxError",
          "evalue": "invalid syntax (<ipython-input-7-6a492d30e363>, line 3)",
          "traceback": [
            "\u001b[0;36m  File \u001b[0;32m\"<ipython-input-7-6a492d30e363>\"\u001b[0;36m, line \u001b[0;32m3\u001b[0m\n\u001b[0;31m    Marks_obt=[8,9,7,10,8,9,8]import matplotlib.pyplot as plt\u001b[0m\n\u001b[0m                              ^\u001b[0m\n\u001b[0;31mSyntaxError\u001b[0m\u001b[0;31m:\u001b[0m invalid syntax\n"
          ]
        }
      ]
    },
    {
      "cell_type": "code",
      "source": [
        "#12.Implement and compare simple random sampling and systematic sampling.\n",
        "\n",
        "#random sampling\n",
        "import numpy as np\n",
        "students_rollno=list(range(1,101))\n",
        "sample_size=10\n",
        "random_sample=np.random.choice(students_rollno,size=sample_size,replace=False)\n",
        "print(\"Simple Random Sample:\",random_sample)\n",
        "\n",
        "#systematic sampling\n",
        "import numpy as np\n",
        "students_rollno=list(range(1,101))\n",
        "sample_size=5\n",
        "k=len(students_rollno)//sample_interval\n",
        "start=np.random.randint(1,k+1\n",
        "                        )\n",
        "systematic_sample = [students_rollno[i - 1] for i in range(start, len(students_rollno) + 1, k)]\n",
        "\n",
        "print(\"Systematic Sample:\", systematic_sample)"
      ],
      "metadata": {
        "id": "pcHaw2rNu5fp",
        "colab": {
          "base_uri": "https://localhost:8080/"
        },
        "outputId": "709a1668-2418-404e-ce11-c512e5adcf6b"
      },
      "execution_count": null,
      "outputs": [
        {
          "output_type": "stream",
          "name": "stdout",
          "text": [
            "Simple Random Sample: [58 28  6 10 98 42 61 52 92 73]\n",
            "Systematic Sample: [18, 38, 58, 78, 98]\n"
          ]
        }
      ]
    },
    {
      "cell_type": "code",
      "source": [
        "#13.Calculate the mean, median, and mode of grouped data.\n",
        "import pandas as pd\n",
        "import numpy as np\n",
        "import scipy.stats as stats\n",
        "\n",
        "data = [12, 15, 18, 21, 25, 28, 32, 35, 38, 42]\n",
        "bins = [10, 20, 30, 40, 50]\n",
        "grouped_data = pd.cut(data, bins)\n",
        "print(grouped_data.value_counts())\n",
        "\n",
        "numerical_data = [interval.mid for interval in grouped_data]\n",
        "\n",
        "mean = np.mean(numerical_data)\n",
        "print(\"Mean:\", mean)\n",
        "median = np.median(numerical_data)\n",
        "print(\"Median:\", median)\n",
        "mode_result = stats.mode(numerical_data)\n",
        "print(\"Mode:\", mode_result.mode[0])"
      ],
      "metadata": {
        "id": "IIM39VJau5jD",
        "colab": {
          "base_uri": "https://localhost:8080/",
          "height": 297
        },
        "outputId": "f90036c3-7a2f-4678-e309-7b0cc2ffe495"
      },
      "execution_count": null,
      "outputs": [
        {
          "output_type": "stream",
          "name": "stdout",
          "text": [
            "(10, 20]    3\n",
            "(20, 30]    3\n",
            "(30, 40]    3\n",
            "(40, 50]    1\n",
            "Name: count, dtype: int64\n",
            "Mean: 27.0\n",
            "Median: 25.0\n"
          ]
        },
        {
          "output_type": "error",
          "ename": "IndexError",
          "evalue": "invalid index to scalar variable.",
          "traceback": [
            "\u001b[0;31m---------------------------------------------------------------------------\u001b[0m",
            "\u001b[0;31mIndexError\u001b[0m                                Traceback (most recent call last)",
            "\u001b[0;32m<ipython-input-10-65525d0c92d8>\u001b[0m in \u001b[0;36m<cell line: 0>\u001b[0;34m()\u001b[0m\n\u001b[1;32m     16\u001b[0m \u001b[0mprint\u001b[0m\u001b[0;34m(\u001b[0m\u001b[0;34m\"Median:\"\u001b[0m\u001b[0;34m,\u001b[0m \u001b[0mmedian\u001b[0m\u001b[0;34m)\u001b[0m\u001b[0;34m\u001b[0m\u001b[0;34m\u001b[0m\u001b[0m\n\u001b[1;32m     17\u001b[0m \u001b[0mmode_result\u001b[0m \u001b[0;34m=\u001b[0m \u001b[0mstats\u001b[0m\u001b[0;34m.\u001b[0m\u001b[0mmode\u001b[0m\u001b[0;34m(\u001b[0m\u001b[0mnumerical_data\u001b[0m\u001b[0;34m)\u001b[0m\u001b[0;34m\u001b[0m\u001b[0;34m\u001b[0m\u001b[0m\n\u001b[0;32m---> 18\u001b[0;31m \u001b[0mprint\u001b[0m\u001b[0;34m(\u001b[0m\u001b[0;34m\"Mode:\"\u001b[0m\u001b[0;34m,\u001b[0m \u001b[0mmode_result\u001b[0m\u001b[0;34m.\u001b[0m\u001b[0mmode\u001b[0m\u001b[0;34m[\u001b[0m\u001b[0;36m0\u001b[0m\u001b[0;34m]\u001b[0m\u001b[0;34m)\u001b[0m\u001b[0;34m\u001b[0m\u001b[0;34m\u001b[0m\u001b[0m\n\u001b[0m",
            "\u001b[0;31mIndexError\u001b[0m: invalid index to scalar variable."
          ]
        }
      ]
    },
    {
      "cell_type": "code",
      "source": [
        " #14.Simulate data using Python and calculate its central tendency and dispersion.\n",
        " import numpy as np\n",
        "\n",
        "data = np.random.normal(loc=50, scale=10, size=100)\n",
        "\n",
        "\n",
        "mean = np.mean(data)\n",
        "median = np.median(data)\n",
        "\n",
        "\n",
        "variance = np.var(data)\n",
        "std_dev = np.std(data)\n",
        "\n",
        "print(\"Simulated Data:\", data)\n",
        "print(\"Mean:\", mean)\n",
        "print(\"Median:\", median)\n",
        "print(\"Variance:\", variance)\n",
        "print(\"Standard Deviation:\", std_dev)"
      ],
      "metadata": {
        "id": "Lgz_FBu2u5nC",
        "colab": {
          "base_uri": "https://localhost:8080/"
        },
        "outputId": "40a8e740-d73b-4207-90eb-402978a329e5"
      },
      "execution_count": null,
      "outputs": [
        {
          "output_type": "stream",
          "name": "stdout",
          "text": [
            "Simulated Data: [43.58823622 46.19484885 50.00543018 40.62767579 58.15090963 42.88084767\n",
            " 43.31099244 67.90117402 68.6299098  42.28229379 47.63030453 48.55967276\n",
            " 63.16222118 45.80602639 58.27552604 53.24084256 32.73463886 38.13171543\n",
            " 71.79505012 72.22001415 36.49058567 31.98985774 50.72693742 62.91874568\n",
            " 59.75613702 69.1702721  52.26754923 54.37128211 60.71869939 61.74910013\n",
            " 50.8820305  64.09587648 52.98792711 19.09677369 40.55369167 57.54228147\n",
            " 54.10095013 63.93859282 60.62424923 76.17207674 61.29114269 43.90224215\n",
            " 26.44453695 34.24464462 50.44630653 65.36711336 55.52382329 45.48774641\n",
            " 33.9765301  52.94220166 60.82678662 57.25365028 37.39506812 38.078095\n",
            " 54.31639485 42.59368718 56.23672203 56.66883692 60.93994011 76.70323508\n",
            " 74.6365872  41.34253783 56.95314581 44.81510831 54.91970786 47.28658062\n",
            " 57.95017977 52.11906847 49.16868782 45.3003722  51.58821984 39.86265568\n",
            " 72.14456118 69.32475224 44.22230214 39.9679219  38.00060934 53.38349062\n",
            " 51.26185241 48.25738955 68.45786596 52.88058402 38.42622292 57.3192789\n",
            " 45.71115173 47.08904446 38.28283817 46.00784303 46.51547988 59.08854892\n",
            " 48.95274185 67.21374501 46.09057305 42.58298894 43.6113766  41.21533257\n",
            " 41.88723642 60.44304605 46.97759581 44.0037818 ]\n",
            "Mean: 51.4118365756452\n",
            "Median: 50.80448396253482\n",
            "Variance: 128.91140304380949\n",
            "Standard Deviation: 11.353915758178298\n"
          ]
        }
      ]
    },
    {
      "cell_type": "code",
      "source": [
        "#15.Use NumPy or pandas to summarize a dataset’s descriptive statistics.\n",
        "import pandas as pd\n",
        "data = [12, 15, 18, 21, 25, 28, 32, 35, 38, 42]\n",
        "descriptive_stats = pd.Series(data).describe()\n",
        "print(descriptive_stats)"
      ],
      "metadata": {
        "id": "rtL54_Lju5vZ",
        "colab": {
          "base_uri": "https://localhost:8080/"
        },
        "outputId": "8475c79a-d6ef-4b3a-dc28-9285a019f900"
      },
      "execution_count": null,
      "outputs": [
        {
          "output_type": "stream",
          "name": "stdout",
          "text": [
            "count    10.000000\n",
            "mean     26.600000\n",
            "std      10.134649\n",
            "min      12.000000\n",
            "25%      18.750000\n",
            "50%      26.500000\n",
            "75%      34.250000\n",
            "max      42.000000\n",
            "dtype: float64\n"
          ]
        }
      ]
    },
    {
      "cell_type": "code",
      "source": [
        " #16.Plot a boxplot to understand the spread and identify outliers.\n",
        "import matplotlib.pyplot as plt\n",
        "import numpy as np\n",
        "\n",
        "data = [12, 15, 18, 21, 25, 28, 32, 35, 38, 42, 100]\n",
        "plt.figure(figsize=(8, 6))\n",
        "plt.boxplot(data)\n",
        "plt.title(\"Boxplot of Data\")\n",
        "plt.ylabel(\"Values\")\n",
        "plt.show()"
      ],
      "metadata": {
        "id": "xnD4dDpPu591",
        "colab": {
          "base_uri": "https://localhost:8080/",
          "height": 545
        },
        "outputId": "2738fe2d-7183-4bf6-ae24-628de2c753fd"
      },
      "execution_count": null,
      "outputs": [
        {
          "output_type": "display_data",
          "data": {
            "text/plain": [
              "<Figure size 800x600 with 1 Axes>"
            ],
            "image/png": "[encoded data removed]"
          },
          "metadata": {}
        }
      ]
    },
    {
      "cell_type": "code",
      "source": [
        "#17. Calculate the interquartile range (IQR) of a dataset.\n",
        "import numpy as np\n",
        "\n",
        "data = [12, 15, 18, 21, 25, 28, 32, 35, 38, 42, 100]\n",
        "\n",
        "q1 = np.percentile(data, 25)\n",
        "q3 = np.percentile(data, 75)\n",
        "\n",
        "iqr = q3 - q1\n",
        "\n",
        "print(\"Q1:\",q1)\n",
        "print(\"Q3:\",q3)\n",
        "print(\"Interquartile Range (IQR):\", iqr)"
      ],
      "metadata": {
        "id": "44Tv0jSyu6BR",
        "colab": {
          "base_uri": "https://localhost:8080/"
        },
        "outputId": "7fe67edc-d14a-4453-fa0b-eaac2d04fe5e"
      },
      "execution_count": null,
      "outputs": [
        {
          "output_type": "stream",
          "name": "stdout",
          "text": [
            "Q1: 19.5\n",
            "Q3: 36.5\n",
            "Interquartile Range (IQR): 17.0\n"
          ]
        }
      ]
    },
    {
      "cell_type": "code",
      "source": [
        " #18.Implement Z-score normalization and explain its significance.\n",
        "import numpy as np\n",
        "data = [12, 15, 18, 21, 25, 28, 32, 35, 38, 42]\n",
        "def zscore_normalize(data):\n",
        "  mean = np.mean(data)\n",
        "  std_dev = np.std(data)\n",
        "  normalized_data = [(x - mean) / std_dev for x in data]\n",
        "  return normalized_data\n",
        "normalized_data = zscore_normalize(data)\n",
        "\n",
        "print(\"Original Data:\", data)\n",
        "print(\"Normalized Data:\", normalized_data)"
      ],
      "metadata": {
        "id": "qFnNVXE6u6Eq",
        "colab": {
          "base_uri": "https://localhost:8080/"
        },
        "outputId": "ce8cc59e-0973-4bda-b004-343d9f13db33"
      },
      "execution_count": null,
      "outputs": [
        {
          "output_type": "stream",
          "name": "stdout",
          "text": [
            "Original Data: [12, 15, 18, 21, 25, 28, 32, 35, 38, 42]\n",
            "Normalized Data: [np.float64(-1.5185282906892252), np.float64(-1.2065019295886996), np.float64(-0.8944755684881739), np.float64(-0.5824492073876482), np.float64(-0.16641405925361386), np.float64(0.14561230184691185), np.float64(0.5616474499809462), np.float64(0.8736738110814719), np.float64(1.1857001721819975), np.float64(1.6017353203160318)]\n"
          ]
        }
      ]
    },
    {
      "cell_type": "code",
      "source": [
        "#19.Compare two datasets using their standard deviations.\n",
        "import numpy as np\n",
        "\n",
        "dataset1 = [10, 12, 14, 16, 18]\n",
        "dataset2 = [2, 4, 6, 8, 10]\n",
        "\n",
        "\n",
        "std_dev1 = np.std(dataset1)\n",
        "std_dev2 = np.std(dataset2)\n",
        "\n",
        "print(\"Standard Deviation of Dataset 1:\", std_dev1)\n",
        "print(\"Standard Deviation of Dataset 2:\", std_dev2)\n",
        "\n",
        "if std_dev1 > std_dev2:\n",
        "    print(\"Dataset 1 has more spread/variability than Dataset 2.\")\n",
        "elif std_dev1 < std_dev2:\n",
        "    print(\"Dataset 2 has more spread/variability than Dataset 1.\")\n",
        "else:\n",
        "    print(\"Both datasets have similar spread/variability.\")\n"
      ],
      "metadata": {
        "id": "FPJZ1GIUu6NS",
        "colab": {
          "base_uri": "https://localhost:8080/"
        },
        "outputId": "9a02c768-e026-4ae6-f56f-9de3084b9434"
      },
      "execution_count": null,
      "outputs": [
        {
          "output_type": "stream",
          "name": "stdout",
          "text": [
            "Standard Deviation of Dataset 1: 2.8284271247461903\n",
            "Standard Deviation of Dataset 2: 2.8284271247461903\n",
            "Both datasets have similar spread/variability.\n"
          ]
        }
      ]
    },
    {
      "cell_type": "code",
      "source": [
        " #20.Write a Python program to visualize covariance using a heatmap.\n",
        "import numpy as np\n",
        "import seaborn as sns\n",
        "import matplotlib.pyplot as plt\n",
        "\n",
        "\n",
        "data = np.random.rand(10, 3)\n",
        "\n",
        "covariance_matrix = np.cov(data, rowvar=False)\n",
        "\n",
        "plt.figure(figsize=(8, 6))\n",
        "sns.heatmap(covariance_matrix, annot=True, cmap='coolwarm', fmt=\".2f\")\n",
        "plt.title(\"Covariance Heatmap\")\n",
        "plt.show()"
      ],
      "metadata": {
        "id": "AjldNAPdu6Za",
        "colab": {
          "base_uri": "https://localhost:8080/",
          "height": 545
        },
        "outputId": "b0afc104-94d4-4b12-9255-edbdc7fe5969"
      },
      "execution_count": null,
      "outputs": [
        {
          "output_type": "display_data",
          "data": {
            "text/plain": [
              "<Figure size 800x600 with 2 Axes>"
            ],
            "image/png": "[encoded data removed]"
          },
          "metadata": {}
        }
      ]
    },
    {
      "cell_type": "code",
      "source": [
        " #21.Use seaborn to create a correlation matrix for a dataset.\n",
        " import seaborn as sns\n",
        "import matplotlib.pyplot as plt\n",
        "import pandas as pd\n",
        "\n",
        "data = pd.DataFrame({\n",
        "    'A': [1, 2, 3, 4, 5],\n",
        "    'B': [2, 4, 5, 4, 6],\n",
        "    'C': [1, 3, 4, 3, 5]\n",
        "})\n",
        "\n",
        "\n",
        "correlation_matrix = data.corr()\n",
        "\n",
        "plt.figure(figsize=(8, 6))\n",
        "sns.heatmap(correlation_matrix, annot=True, cmap='coolwarm', fmt=\".2f\")\n",
        "plt.title(\"Correlation Matrix\")\n",
        "plt.show()\n"
      ],
      "metadata": {
        "id": "JzBl5sUfu6c6",
        "colab": {
          "base_uri": "https://localhost:8080/",
          "height": 545
        },
        "outputId": "1703b46b-5060-45d9-e987-dcb651bf5f5e"
      },
      "execution_count": null,
      "outputs": [
        {
          "output_type": "display_data",
          "data": {
            "text/plain": [
              "<Figure size 800x600 with 2 Axes>"
            ],
            "image/png": "[encoded data removed]"
          },
          "metadata": {}
        }
      ]
    },
    {
      "cell_type": "code",
      "source": [
        " #22.Generate a dataset and implement both variance and standard deviation computations\n",
        "import numpy as np\n",
        "\n",
        "\n",
        "data = np.random.randint(10, 100, size=50)\n",
        "\n",
        "\n",
        "variance = np.var(data)\n",
        "\n",
        "std_dev = np.std(data)\n",
        "\n",
        "print(\"Generated Dataset:\", data)\n",
        "print(\"Variance:\", variance)\n",
        "print(\"Standard Deviation:\", std_dev)"
      ],
      "metadata": {
        "id": "9-Q1foMZu6gD",
        "colab": {
          "base_uri": "https://localhost:8080/"
        },
        "outputId": "7f061198-9134-48f0-ab98-7630cb29f2a6"
      },
      "execution_count": null,
      "outputs": [
        {
          "output_type": "stream",
          "name": "stdout",
          "text": [
            "Generated Dataset: [75 84 76 98 78 26 36 73 42 50 46 59 93 33 70 86 98 56 95 31 12 76 24 81\n",
            " 39 80 75 69 79 99 39 49 70 11 20 97 88 60 88 19 12 54 54 41 32 78 45 80\n",
            " 96 35]\n",
            "Variance: 689.2804000000001\n",
            "Standard Deviation: 26.254150148119443\n"
          ]
        }
      ]
    },
    {
      "cell_type": "code",
      "source": [
        " #23.Visualize skewness and kurtosis using Python libraries like matplotlib or seaborn.\n",
        "import numpy as np\n",
        "import matplotlib.pyplot as plt\n",
        "import seaborn as sns\n",
        "import scipy.stats as stats\n",
        "\n",
        "\n",
        "data = np.random.normal(loc=0, scale=1, size=1000)\n",
        "\n",
        "skewness = stats.skew(data)\n",
        "kurtosis = stats.kurtosis(data)\n",
        "\n",
        "plt.figure(figsize=(8, 6))\n",
        "sns.histplot(data, kde=True)\n",
        "plt.title(f\"Distribution of Data\\nSkewness: {skewness:.2f}, Kurtosis: {kurtosis:.2f}\")\n",
        "plt.xlabel(\"Values\")"
      ],
      "metadata": {
        "id": "Oz8q6wfPu6jG",
        "colab": {
          "base_uri": "https://localhost:8080/",
          "height": 602
        },
        "outputId": "74e38a39-4203-4f8f-bf88-f5970035ff56"
      },
      "execution_count": null,
      "outputs": [
        {
          "output_type": "execute_result",
          "data": {
            "text/plain": [
              "Text(0.5, 0, 'Values')"
            ]
          },
          "metadata": {},
          "execution_count": 26
        },
        {
          "output_type": "display_data",
          "data": {
            "text/plain": [
              "<Figure size 800x600 with 1 Axes>"
            ],
            "image/png": "[encoded data removed]"
          },
          "metadata": {}
        }
      ]
    },
    {
      "cell_type": "code",
      "source": [
        " #24.Implement the Pearson and Spearman correlation coefficients for a dataset.\n",
        "import numpy as np\n",
        "import pandas as pd\n",
        "from scipy.stats import pearsonr, spearmanr\n",
        "\n",
        "data = pd.DataFrame({\n",
        "    'X': [1, 2, 3, 4, 5],\n",
        "    'Y': [2, 4, 1, 3, 5]\n",
        "})\n",
        "pearson_corr, _ = pearsonr(data['X'], data['Y'])\n",
        "print(f\"Pearson correlation: {pearson_corr:.2f}\")\n",
        "\n",
        "spearman_corr, _ = spearmanr(data['X'], data['Y'])\n",
        "print(f\"Spearman correlation: {spearman_corr:.2f}\")"
      ],
      "metadata": {
        "id": "EcqxMLiDu6mO",
        "colab": {
          "base_uri": "https://localhost:8080/"
        },
        "outputId": "1d24e547-d762-40d7-bca3-0409caccd102"
      },
      "execution_count": null,
      "outputs": [
        {
          "output_type": "stream",
          "name": "stdout",
          "text": [
            "Pearson correlation: 0.50\n",
            "Spearman correlation: 0.50\n"
          ]
        }
      ]
    },
    {
      "cell_type": "code",
      "source": [],
      "metadata": {
        "colab": {
          "base_uri": "https://localhost:8080/",
          "height": 141
        },
        "id": "hA912blqu6pp",
        "outputId": "f09fdfa5-e8a8-436c-da37-6d81d736bd08"
      },
      "execution_count": null,
      "outputs": [
        {
          "output_type": "error",
          "ename": "TypeError",
          "evalue": "'int' object is not iterable",
          "traceback": [
            "\u001b[0;31m---------------------------------------------------------------------------\u001b[0m",
            "\u001b[0;31mTypeError\u001b[0m                                 Traceback (most recent call last)",
            "\u001b[0;32m<ipython-input-1-d3f28be01b70>\u001b[0m in \u001b[0;36m<cell line: 0>\u001b[0;34m()\u001b[0m\n\u001b[0;32m----> 1\u001b[0;31m \u001b[0msum\u001b[0m\u001b[0;34m(\u001b[0m\u001b[0;36m2\u001b[0m\u001b[0;34m,\u001b[0m\u001b[0;36m3\u001b[0m\u001b[0;34m)\u001b[0m\u001b[0;34m\u001b[0m\u001b[0;34m\u001b[0m\u001b[0m\n\u001b[0m",
            "\u001b[0;31mTypeError\u001b[0m: 'int' object is not iterable"
          ]
        }
      ]
    },
    {
      "cell_type": "code",
      "source": [],
      "metadata": {
        "id": "okVAZ76Xu6sw"
      },
      "execution_count": null,
      "outputs": []
    },
    {
      "cell_type": "code",
      "source": [],
      "metadata": {
        "id": "9JuWEgwMu6yB"
      },
      "execution_count": null,
      "outputs": []
    }
  ]
}